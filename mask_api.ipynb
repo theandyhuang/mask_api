{
  "nbformat": 4,
  "nbformat_minor": 0,
  "metadata": {
    "colab": {
      "provenance": [],
      "authorship_tag": "ABX9TyMeRorYoWAJ2kOTxU+JnXgA",
      "include_colab_link": true
    },
    "kernelspec": {
      "name": "python3",
      "display_name": "Python 3"
    },
    "language_info": {
      "name": "python"
    },
    "accelerator": "GPU",
    "gpuClass": "standard"
  },
  "cells": [
    {
      "cell_type": "markdown",
      "metadata": {
        "id": "view-in-github",
        "colab_type": "text"
      },
      "source": [
        "<a href=\"https://colab.research.google.com/github/theandyhuang/mask_api/blob/main/mask_api.ipynb\" target=\"_parent\"><img src=\"https://colab.research.google.com/assets/colab-badge.svg\" alt=\"Open In Colab\"/></a>"
      ]
    },
    {
      "cell_type": "markdown",
      "source": [
        "## Task #07 指定閱讀：Python 實作資料爬蟲與資料收集\n"
      ],
      "metadata": {
        "id": "tEBqbJ1mNKNh"
      }
    },
    {
      "cell_type": "code",
      "execution_count": 4,
      "metadata": {
        "colab": {
          "base_uri": "https://localhost:8080/"
        },
        "id": "bTpC1UslNIDf",
        "outputId": "543e629e-9fdc-4ce9-d0bd-a68bc8535229"
      },
      "outputs": [
        {
          "output_type": "stream",
          "name": "stderr",
          "text": [
            "IOPub data rate exceeded.\n",
            "The notebook server will temporarily stop sending output\n",
            "to the client in order to avoid crashing it.\n",
            "To change this limit, set the config variable\n",
            "`--NotebookApp.iopub_data_rate_limit`.\n",
            "\n",
            "Current values:\n",
            "NotebookApp.iopub_data_rate_limit=1000000.0 (bytes/sec)\n",
            "NotebookApp.rate_limit_window=3.0 (secs)\n",
            "\n"
          ]
        }
      ],
      "source": [
        "import requests\n",
        "import json\n",
        "\n",
        "# 利用 requests 對 API 來源發送一個請求\n",
        "url = \"https://raw.githubusercontent.com/kiang/pharmacies/master/json/points.json\"\n",
        "response = requests.get(url)\n",
        "\n",
        "# 將請求回應的內容存成一個字串格式\n",
        "d = response.text\n",
        "\n",
        "# 將長得像 json 格式的字串解析成字典或列表\n",
        "data = json.loads(d)\n",
        "print(data)"
      ]
    },
    {
      "cell_type": "markdown",
      "source": [
        "計算各地區的藥局數量"
      ],
      "metadata": {
        "id": "9JE3prRYX_cF"
      }
    },
    {
      "cell_type": "code",
      "source": [
        "med_count = {}\n",
        "\n",
        "# 填入欄位名稱\n",
        "for d in data[\"features\"]:\n",
        "    conunty = d[\"properties\"]['address'][:3]\n",
        "    if conunty not in med_count:\n",
        "         med_count[conunty] = 0\n",
        "\n",
        "    # if conunty == \"\":\n",
        "    #   print(d[\"properties\"]['address'])\n",
        "    med_count[conunty] = med_count[conunty] + 1\n",
        "\n",
        "\n",
        "    \n",
        "\n",
        "print(med_count)\n",
        "# {'台北市': 123, '新北市': 456 ...}"
      ],
      "metadata": {
        "colab": {
          "base_uri": "https://localhost:8080/"
        },
        "id": "_ka3qvMKPKN4",
        "outputId": "deae40fd-f2fc-45dc-fa79-a4094c1ccf82"
      },
      "execution_count": 18,
      "outputs": [
        {
          "output_type": "stream",
          "name": "stdout",
          "text": [
            "{'臺北市': 340, '高雄市': 424, '臺中市': 436, '臺南市': 280, '基隆市': 57, '新竹市': 39, '嘉義市': 67, '新北市': 507, '桃園市': 271, '新竹縣': 48, '宜蘭縣': 76, '苗栗縣': 57, '彰化縣': 181, '南投縣': 67, '雲林縣': 131, '嘉義縣': 84, '屏東縣': 140, '澎湖縣': 11, '花蓮縣': 47, '臺東縣': 23, '金門縣': 6, '連江縣': 1}\n"
          ]
        }
      ]
    },
    {
      "cell_type": "markdown",
      "source": [
        "計算出每個地區的成人剩餘口罩數量，並且將結果從大到小排列"
      ],
      "metadata": {
        "id": "Vk3GFwK3X8p-"
      }
    },
    {
      "cell_type": "code",
      "source": [
        "mask_count = {}\n",
        "\n",
        "# 填入欄位名稱\n",
        "for d in data['features']:\n",
        "    conunty = d[\"properties\"]['address'][:3]\n",
        "    mask_adult = d[\"properties\"]['mask_adult']\n",
        "    if conunty not in mask_count:\n",
        "      mask_count[conunty] = mask_adult\n",
        "    else:\n",
        "      mask_count[conunty] = mask_count[conunty] + mask_adult\n",
        "\n",
        "# print(mask_count.items())\n",
        "# 將結果從大到小排列\n",
        "mask_count = dict(sorted(mask_count.items(), key=lambda item: item[1], reverse=True))\n",
        "\n",
        "print(mask_count)\n",
        "# {'台北市': 12345, '新北市': 45678 ...}\n"
      ],
      "metadata": {
        "colab": {
          "base_uri": "https://localhost:8080/"
        },
        "id": "U7nsGryZXogm",
        "outputId": "6e61d999-2a50-4631-a275-e41d7574689d"
      },
      "execution_count": 25,
      "outputs": [
        {
          "output_type": "stream",
          "name": "stdout",
          "text": [
            "{'新北市': 677660, '臺中市': 556440, '高雄市': 428940, '臺南市': 408400, '桃園市': 345600, '臺北市': 323660, '彰化縣': 219400, '雲林縣': 199470, '屏東縣': 184250, '苗栗縣': 134180, '嘉義縣': 113180, '嘉義市': 107840, '宜蘭縣': 106900, '南投縣': 91240, '基隆市': 80100, '花蓮縣': 57330, '新竹縣': 53760, '新竹市': 45630, '臺東縣': 28510, '金門縣': 15510, '澎湖縣': 12600, '連江縣': 7930}\n"
          ]
        }
      ]
    },
    {
      "cell_type": "markdown",
      "source": [
        "## Task #08 作業#01 【實作題】將資料存入資料庫"
      ],
      "metadata": {
        "id": "puMubxyMjSFG"
      }
    },
    {
      "cell_type": "markdown",
      "source": [
        "將計算的「各地區的藥局數量」存入資料庫的 `pharmacies` 表格，欄位包含「地區」、「數量」、「新增時間」"
      ],
      "metadata": {
        "id": "06dKzgG_hwY7"
      }
    },
    {
      "cell_type": "code",
      "source": [
        "import sqlite3\n",
        "import datetime\n",
        "\n",
        "conn = sqlite3.connect('example.db')\n",
        "c = conn.cursor()\n",
        "\n",
        "# 新增且清空資料表\n",
        "c.execute('''CREATE TABLE IF NOT EXISTS pharmacies\n",
        "             (city text, counts text, createdAt datetime)''')\n",
        "c.execute('''DELETE FROM pharmacies''')\n",
        "conn.commit()\n",
        "\n",
        "# 新增資料(直接把前面執行完的拿過來用)\n",
        "data = med_count\n",
        "\n",
        "for d in data.keys():\n",
        "  city = d\n",
        "  counts = data[str(d)]\n",
        "  t = datetime.datetime.now()\n",
        "  print(f\"INSERT INTO stocks VALUES ('{city}', {counts}, '{t}')\")\n",
        "  c.execute(f\"INSERT INTO pharmacies VALUES ('{city}', {counts}, '{t}')\")\n",
        "  conn.commit()\n",
        "\n",
        "# 查詢資料\n",
        "c.execute(\"SELECT * FROM pharmacies\")\n",
        "print(c.fetchall())\n",
        "\n",
        "conn.commit()\n",
        "conn.close()"
      ],
      "metadata": {
        "colab": {
          "base_uri": "https://localhost:8080/"
        },
        "id": "exJJUUZghwfD",
        "outputId": "9e8e50d0-d592-4c9f-8d92-1d06aa70c71b"
      },
      "execution_count": 30,
      "outputs": [
        {
          "output_type": "stream",
          "name": "stdout",
          "text": [
            "INSERT INTO stocks VALUES ('臺北市', 340, '2023-04-13 12:29:20.628879')\n",
            "INSERT INTO stocks VALUES ('高雄市', 424, '2023-04-13 12:29:20.639548')\n",
            "INSERT INTO stocks VALUES ('臺中市', 436, '2023-04-13 12:29:20.647953')\n",
            "INSERT INTO stocks VALUES ('臺南市', 280, '2023-04-13 12:29:20.656844')\n",
            "INSERT INTO stocks VALUES ('基隆市', 57, '2023-04-13 12:29:20.665006')\n",
            "INSERT INTO stocks VALUES ('新竹市', 39, '2023-04-13 12:29:20.673246')\n",
            "INSERT INTO stocks VALUES ('嘉義市', 67, '2023-04-13 12:29:20.682046')\n",
            "INSERT INTO stocks VALUES ('新北市', 507, '2023-04-13 12:29:20.690699')\n",
            "INSERT INTO stocks VALUES ('桃園市', 271, '2023-04-13 12:29:20.699479')\n",
            "INSERT INTO stocks VALUES ('新竹縣', 48, '2023-04-13 12:29:20.708400')\n",
            "INSERT INTO stocks VALUES ('宜蘭縣', 76, '2023-04-13 12:29:20.720250')\n",
            "INSERT INTO stocks VALUES ('苗栗縣', 57, '2023-04-13 12:29:20.729314')\n",
            "INSERT INTO stocks VALUES ('彰化縣', 181, '2023-04-13 12:29:20.737725')\n",
            "INSERT INTO stocks VALUES ('南投縣', 67, '2023-04-13 12:29:20.746304')\n",
            "INSERT INTO stocks VALUES ('雲林縣', 131, '2023-04-13 12:29:20.755729')\n",
            "INSERT INTO stocks VALUES ('嘉義縣', 84, '2023-04-13 12:29:20.765578')\n",
            "INSERT INTO stocks VALUES ('屏東縣', 140, '2023-04-13 12:29:20.776298')\n",
            "INSERT INTO stocks VALUES ('澎湖縣', 11, '2023-04-13 12:29:20.785783')\n",
            "INSERT INTO stocks VALUES ('花蓮縣', 47, '2023-04-13 12:29:20.795768')\n",
            "INSERT INTO stocks VALUES ('臺東縣', 23, '2023-04-13 12:29:20.805848')\n",
            "INSERT INTO stocks VALUES ('金門縣', 6, '2023-04-13 12:29:20.815375')\n",
            "INSERT INTO stocks VALUES ('連江縣', 1, '2023-04-13 12:29:20.824285')\n",
            "[('臺北市', '340', '2023-04-13 12:29:20.628879'), ('高雄市', '424', '2023-04-13 12:29:20.639548'), ('臺中市', '436', '2023-04-13 12:29:20.647953'), ('臺南市', '280', '2023-04-13 12:29:20.656844'), ('基隆市', '57', '2023-04-13 12:29:20.665006'), ('新竹市', '39', '2023-04-13 12:29:20.673246'), ('嘉義市', '67', '2023-04-13 12:29:20.682046'), ('新北市', '507', '2023-04-13 12:29:20.690699'), ('桃園市', '271', '2023-04-13 12:29:20.699479'), ('新竹縣', '48', '2023-04-13 12:29:20.708400'), ('宜蘭縣', '76', '2023-04-13 12:29:20.720250'), ('苗栗縣', '57', '2023-04-13 12:29:20.729314'), ('彰化縣', '181', '2023-04-13 12:29:20.737725'), ('南投縣', '67', '2023-04-13 12:29:20.746304'), ('雲林縣', '131', '2023-04-13 12:29:20.755729'), ('嘉義縣', '84', '2023-04-13 12:29:20.765578'), ('屏東縣', '140', '2023-04-13 12:29:20.776298'), ('澎湖縣', '11', '2023-04-13 12:29:20.785783'), ('花蓮縣', '47', '2023-04-13 12:29:20.795768'), ('臺東縣', '23', '2023-04-13 12:29:20.805848'), ('金門縣', '6', '2023-04-13 12:29:20.815375'), ('連江縣', '1', '2023-04-13 12:29:20.824285')]\n"
          ]
        }
      ]
    }
  ]
}